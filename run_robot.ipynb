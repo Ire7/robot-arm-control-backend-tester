{
  "nbformat": 4,
  "nbformat_minor": 0,
  "metadata": {
    "colab": {
      "provenance": []
    },
    "kernelspec": {
      "name": "python3",
      "display_name": "Python 3"
    },
    "language_info": {
      "name": "python"
    }
  },
  "cells": [
    {
      "cell_type": "code",
      "execution_count": null,
      "metadata": {
        "id": "y2CPxQN-O9Bf"
      },
      "outputs": [],
      "source": [
        "import time, requests, json\n",
        "\n",
        "# Base URL for the PHP API (change '192.168.x.x' to my PC IP)\n",
        "BASE = \"http://192.168.1.5/robot_api/get_run_pose.php\"\n",
        "\n",
        "# Function to send servo angles to the robot (currently just prints)\n",
        "def set_servo_angles(m1, m2, m3, m4):\n",
        "    # Later I will replace this with real servo control code\n",
        "    print(\"Move servos to:\", m1, m2, m3, m4)\n",
        "\n",
        "# Infinite loop to keep checking for updates\n",
        "while True:\n",
        "    try:\n",
        "        # Send GET request to my PHP endpoint\n",
        "        r = requests.get(BASE, timeout=3)\n",
        "\n",
        "        # Parse JSON response\n",
        "        data = r.json()\n",
        "\n",
        "        # If there is no error, update servo positions\n",
        "        if \"error\" not in data:\n",
        "            m1 = int(data[\"motor1\"])\n",
        "            m2 = int(data[\"motor2\"])\n",
        "            m3 = int(data[\"motor3\"])\n",
        "            m4 = int(data[\"motor4\"])\n",
        "            set_servo_angles(m1, m2, m3, m4)\n",
        "        else:\n",
        "            # No poses found in DB yet\n",
        "            print(\"Waiting for poses...\")\n",
        "\n",
        "    except Exception as e:\n",
        "        # If there is a network or parsing error, show it\n",
        "        print(\"Error:\", e)\n",
        "\n",
        "    # Wait for 1 second before checking again\n",
        "    time.sleep(1)"
      ]
    }
  ]
}